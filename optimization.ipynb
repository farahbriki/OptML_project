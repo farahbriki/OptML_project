{
 "cells": [
  {
   "cell_type": "code",
   "execution_count": 1,
   "metadata": {},
   "outputs": [],
   "source": [
    "import os\n",
    "import pickle\n",
    "from helpers import *"
   ]
  },
  {
   "cell_type": "code",
   "execution_count": 2,
   "metadata": {},
   "outputs": [],
   "source": [
    "Models = {\n",
    "    \"MNIST\": [\"LeNet5\", \"LeNetPlusPlus\", \"MiniVGG\"],\n",
    "    \"CIFAR10\": [\"ResNet50\", \"VGGNet\", \"AlexNet\"],\n",
    "}\n",
    "Optimizers = [\n",
    "    \"SGD\",\n",
    "    \"SGD_Momentum\",\n",
    "    \"Adam\",\n",
    "    \"NAdam\",\n",
    "    \"AdaGrad\",\n",
    "    \"AdaDelta\",\n",
    "    \"AdaMax\",\n",
    "    \"RMSProp\",\n",
    "]"
   ]
  },
  {
   "cell_type": "code",
   "execution_count": null,
   "metadata": {},
   "outputs": [],
   "source": [
    "os.makedirs(\"result\", exist_ok=True)\n",
    "for dataset in list(Models.keys()):\n",
    "    for model in Models[dataset]:\n",
    "        for optimizer in Optimizers:\n",
    "            losses, accuracy, time_elapsed = train_test_model(\n",
    "                dataset, model, optimizer, batch_size=128, max_iter=50\n",
    "            )\n",
    "            result_file = \"{}_{}_{}.pkl\".format(dataset, model, optimizer)\n",
    "            file_path = os.path.join(\"result\", result_file)\n",
    "            with open(file_path, \"wb\") as f:\n",
    "                pickle.dump((losses, accuracy, time_elapsed), f)"
   ]
  }
 ],
 "metadata": {
  "kernelspec": {
   "display_name": "base",
   "language": "python",
   "name": "python3"
  },
  "language_info": {
   "codemirror_mode": {
    "name": "ipython",
    "version": 3
   },
   "file_extension": ".py",
   "mimetype": "text/x-python",
   "name": "python",
   "nbconvert_exporter": "python",
   "pygments_lexer": "ipython3",
   "version": "3.11.3"
  },
  "orig_nbformat": 4
 },
 "nbformat": 4,
 "nbformat_minor": 2
}
