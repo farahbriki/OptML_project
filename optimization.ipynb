{
 "cells": [
  {
   "cell_type": "code",
   "execution_count": 1,
   "metadata": {},
   "outputs": [],
   "source": [
    "import torch\n",
    "import torchvision\n",
    "import torch.optim as optim\n",
    "from torch.optim import lr_scheduler\n",
    "from tqdm import tqdm\n",
    "import torchvision.transforms as transforms\n",
    "from helpers import *\n",
    "from networks import *\n",
    "\n",
    "import yaml\n"
   ]
  },
  {
   "cell_type": "code",
   "execution_count": 2,
   "metadata": {},
   "outputs": [],
   "source": [
    "def build_network(dataset_name , network_type, num_classes,num_channels,image_size, device):\n",
    "    network = None\n",
    "    match network_type:\n",
    "        case 'AlexNet':\n",
    "            network = AlexNet(device, dataset_name,num_channels,num_classes)\n",
    "        case 'LeNet5':\n",
    "            network = LeNet5(device, num_channels)\n",
    "        case 'ResNet50':\n",
    "            network = ResNet50(device, num_channels,image_size, num_classes)\n",
    "        case 'VGGNet':\n",
    "            network = VGGNet(device, num_channels,num_classes,num_layers= 16)\n",
    "        case 'LeNetPlusPlus':\n",
    "            network = LeNetPlusPlus(device, num_channels,num_classes)\n",
    "        case 'MiniVGG':\n",
    "            network = MiniVGG(device, num_channels,num_classes)\n",
    "        case _ :\n",
    "            raise ValueError(\n",
    "                \"Unsupported network: {}. Only AlexNet, LeNet5, ResNet50, VGGNet, LeNetPlusPlus or MiniVGG are supported.\".format(\n",
    "                    network_type\n",
    "                )\n",
    "            )\n",
    "            \n",
    "    return network.to(device)\n"
   ]
  },
  {
   "cell_type": "code",
   "execution_count": 3,
   "metadata": {},
   "outputs": [],
   "source": [
    "def build_optimizer(optimizer_type,network):\n",
    "    optimizer = None\n",
    "\n",
    "    with open('config.yaml') as file:\n",
    "        hyperparameters = yaml.safe_load(file)\n",
    "\n",
    "    match optimizer_type:\n",
    "        case 'SGD':\n",
    "            optimizer = optim.SGD(network.parameters(), lr = hyperparameters[optimizer_type]['learning_rate'])\n",
    "        case 'SGD_Momentum':\n",
    "            optimizer = optim.SGD(network.parameters(), lr = hyperparameters[optimizer_type]['learning_rate'],momentum = hyperparameters[optimizer_type]['momentum'])\n",
    "        case 'Adam':\n",
    "            optimizer = optim.Adam(network.parameters(),lr = hyperparameters[optimizer_type]['learning_rate'], betas = hyperparameters[optimizer_type]['betas'])\n",
    "        case 'NAdam':\n",
    "            optimizer = optim.NAdam(network.parameters(),lr = hyperparameters[optimizer_type]['learning_rate'], betas = hyperparameters[optimizer_type]['betas'])\n",
    "        case 'AdaGrad':\n",
    "            optimizer = optim.Adagrad(network.parameters(),lr = hyperparameters[optimizer_type]['learning_rate'])\n",
    "        case 'AdaDelta':\n",
    "            optimizer = optim.Adadelta(network.parameters(),lr = hyperparameters[optimizer_type]['learning_rate'], decay = hyperparameters[optimizer_type]['decay'])\n",
    "        case 'AdaMax':\n",
    "            optimizer = optim.Adamax(network.parameters(),lr = hyperparameters[optimizer_type]['learning_rate'], betas = hyperparameters[optimizer_type]['betas'])\n",
    "        case 'RMSProp':\n",
    "            optimizer = optim.RMSprop(network.parameters(),lr = hyperparameters[optimizer_type]['learning_rate'], alpha = hyperparameters[optimizer_type]['alpha'])\n",
    "        case _ :\n",
    "            raise ValueError(\n",
    "                \"Unsupported optimizer: {}. Only SGD, SGD_Momentum, Adam, NAdam, AdaGrad, AdaDelta,AdaMax, RMSProp are supported.\".format(\n",
    "                    optimizer_type\n",
    "                )\n",
    "            )\n",
    "    return optimizer\n",
    "        \n",
    "\n",
    "    "
   ]
  },
  {
   "cell_type": "code",
   "execution_count": 4,
   "metadata": {},
   "outputs": [],
   "source": [
    "def train_model(train_loader,network ,optimizer, device,  scheduler = None, criterion = nn.CrossEntropyLoss(), max_iter= 1000, model_name = ''):\n",
    "    losses = []\n",
    "    for epoch in tqdm(range(max_iter)):\n",
    "        running_loss = 0.0\n",
    "        for _,data in enumerate(train_loader):\n",
    "            # get the inputs; data is a list of [inputs, labels]\n",
    "            inputs, labels = data\n",
    "\n",
    "            inputs = inputs.to(device)\n",
    "            labels = labels.to(device)\n",
    "\n",
    "            # zero the parameter gradients\n",
    "            optimizer.zero_grad()\n",
    "\n",
    "            # forward + backward + optimize\n",
    "            outputs = network(inputs)\n",
    "            loss = criterion(outputs, labels)\n",
    "            loss.backward()\n",
    "            optimizer.step()\n",
    "\n",
    "            # print statistics\n",
    "            running_loss += loss.item()\n",
    "\n",
    "        if scheduler is not None:\n",
    "            scheduler.step()  # Update the learning rate scheduler\n",
    "\n",
    "        losses.append(running_loss)\n",
    "        running_loss = 0.0\n",
    "    PATH = os.path.join('models','{}_network.pth'.format(model_name))\n",
    "    torch.save(network.state_dict(), PATH)\n",
    "    return losses\n"
   ]
  },
  {
   "cell_type": "code",
   "execution_count": 5,
   "metadata": {},
   "outputs": [],
   "source": [
    "def test_model(test_loader,network, device):\n",
    "    correct_predictions = 0\n",
    "    total_predictions = 0\n",
    "    with torch.no_grad():\n",
    "        for _,data in enumerate(test_loader):\n",
    "            images, labels = data\n",
    "            images = images.to(device)\n",
    "            labels = labels.to(device)\n",
    "\n",
    "            outputs = network(images)\n",
    "            outputs = outputs.cpu()\n",
    "            _, predictions = torch.max(outputs, 1)\n",
    "            # collect the correct predictions for each class\n",
    "            for label, prediction in zip(labels.cpu(), predictions):\n",
    "                if label == prediction:\n",
    "                    correct_predictions += 1\n",
    "                total_predictions += 1\n",
    "    accuracy = correct_predictions/total_predictions\n",
    "    return accuracy"
   ]
  },
  {
   "cell_type": "code",
   "execution_count": 6,
   "metadata": {},
   "outputs": [],
   "source": [
    "def train_test_model(dataset_name, network_type, optimizer_type, lr_scheduler = None,\n",
    "                      max_iter= 1000,batch_size = 10, num_workers = 4):\n",
    "    # load  dataset\n",
    "    train_loader,test_loader,num_classes,num_channels,image_size, device = load_dataset(dataset_name=dataset_name, batch_size = batch_size, \n",
    "                                                        num_workers= num_workers)\n",
    "    network = build_network(dataset_name, network_type, num_classes,num_channels,image_size, device)\n",
    "    optimizer = build_optimizer(optimizer_type,network)\n",
    "    losses = train_model(train_loader, network, optimizer, device,\n",
    "                         lr_scheduler ,max_iter = max_iter ,model_name=dataset_name)\n",
    "    accuracy = test_model(test_loader,network, device)\n",
    "    return losses, accuracy"
   ]
  },
  {
   "cell_type": "code",
   "execution_count": 7,
   "metadata": {},
   "outputs": [
    {
     "name": "stdout",
     "output_type": "stream",
     "text": [
      "Files already downloaded and verified\n",
      "Files already downloaded and verified\n"
     ]
    },
    {
     "name": "stderr",
     "output_type": "stream",
     "text": [
      "100%|██████████| 5/5 [05:31<00:00, 66.29s/it]\n"
     ]
    }
   ],
   "source": [
    "losses,accuracy = train_test_model('CIFAR10','LeNet5','SGD',max_iter=5)"
   ]
  }
 ],
 "metadata": {
  "kernelspec": {
   "display_name": "base",
   "language": "python",
   "name": "python3"
  },
  "language_info": {
   "codemirror_mode": {
    "name": "ipython",
    "version": 3
   },
   "file_extension": ".py",
   "mimetype": "text/x-python",
   "name": "python",
   "nbconvert_exporter": "python",
   "pygments_lexer": "ipython3",
   "version": "3.11.3"
  },
  "orig_nbformat": 4
 },
 "nbformat": 4,
 "nbformat_minor": 2
}
